{
 "cells": [
  {
   "cell_type": "code",
   "execution_count": 1,
   "id": "7a882cfc",
   "metadata": {},
   "outputs": [],
   "source": [
    "# Import the random module.\n",
    "\n",
    "import random"
   ]
  },
  {
   "cell_type": "code",
   "execution_count": 2,
   "id": "b4ace851",
   "metadata": {},
   "outputs": [
    {
     "data": {
      "text/plain": [
       "-9"
      ]
     },
     "execution_count": 2,
     "metadata": {},
     "output_type": "execute_result"
    }
   ],
   "source": [
    "random.randint(-90, 90)"
   ]
  },
  {
   "cell_type": "code",
   "execution_count": 3,
   "id": "bed94716",
   "metadata": {},
   "outputs": [
    {
     "data": {
      "text/plain": [
       "0.5034506295186177"
      ]
     },
     "execution_count": 3,
     "metadata": {},
     "output_type": "execute_result"
    }
   ],
   "source": [
    "random.random()"
   ]
  },
  {
   "cell_type": "code",
   "execution_count": 4,
   "id": "4633d89a",
   "metadata": {},
   "outputs": [
    {
     "data": {
      "text/plain": [
       "[-26.450624302504174,\n",
       " 41.24422578655247,\n",
       " 63.01517078272888,\n",
       " 70.81366589222127,\n",
       " -56.51952443264741,\n",
       " -26.638737881979125,\n",
       " 81.43380486765776,\n",
       " 45.848109667435864,\n",
       " -69.96466219834217,\n",
       " 12.954081165596172]"
      ]
     },
     "execution_count": 4,
     "metadata": {},
     "output_type": "execute_result"
    }
   ],
   "source": [
    "x = 1\n",
    "latitudes = []\n",
    "while x < 11:\n",
    "    random_lat = random.randint(-90, 89) + random.random()\n",
    "    latitudes.append(random_lat)\n",
    "    x += 1\n",
    "\n",
    "latitudes"
   ]
  },
  {
   "cell_type": "code",
   "execution_count": 5,
   "id": "97bcc0ee",
   "metadata": {},
   "outputs": [
    {
     "data": {
      "text/plain": [
       "4"
      ]
     },
     "execution_count": 5,
     "metadata": {},
     "output_type": "execute_result"
    }
   ],
   "source": [
    "random.randrange(-90, 90, step = 1)"
   ]
  },
  {
   "cell_type": "code",
   "execution_count": 6,
   "id": "b914fe64",
   "metadata": {},
   "outputs": [
    {
     "data": {
      "text/plain": [
       "-45"
      ]
     },
     "execution_count": 6,
     "metadata": {},
     "output_type": "execute_result"
    }
   ],
   "source": [
    "random.randrange(-90, 90, step = 3)"
   ]
  },
  {
   "cell_type": "code",
   "execution_count": 7,
   "id": "64283787",
   "metadata": {},
   "outputs": [
    {
     "data": {
      "text/plain": [
       "-68.98183698361763"
      ]
     },
     "execution_count": 7,
     "metadata": {},
     "output_type": "execute_result"
    }
   ],
   "source": [
    "random.uniform(-90, 90)"
   ]
  },
  {
   "cell_type": "code",
   "execution_count": 8,
   "id": "1f8b7f62",
   "metadata": {},
   "outputs": [],
   "source": [
    "# Import the NumPy module.\n",
    "\n",
    "import numpy as np"
   ]
  },
  {
   "cell_type": "code",
   "execution_count": 9,
   "id": "9b3b39be",
   "metadata": {},
   "outputs": [
    {
     "data": {
      "text/plain": [
       "31.25234536308561"
      ]
     },
     "execution_count": 9,
     "metadata": {},
     "output_type": "execute_result"
    }
   ],
   "source": [
    "np.random.uniform(-90.000, 90.000)"
   ]
  },
  {
   "cell_type": "code",
   "execution_count": 10,
   "id": "b54b297b",
   "metadata": {},
   "outputs": [
    {
     "data": {
      "text/plain": [
       "array([-22.45508331, -26.73325415, -37.87831856, -57.26554014,\n",
       "        76.19490093, -67.43784983, -62.55978212, -10.46052363,\n",
       "        68.69608033, -88.30747519,  81.65222871,  85.84606645,\n",
       "       -69.200915  ,  25.72698999, -81.0605594 , -68.26606079,\n",
       "       -52.00686529,   9.82425702, -44.04237441, -71.05134908,\n",
       "        49.04932949, -23.59873638, -80.86569314,  83.82514527,\n",
       "        83.36554092,  45.51140053,  87.68949351, -12.49432569,\n",
       "        39.09200905, -33.27494351,  -9.23617285,  44.92145547,\n",
       "        47.5806078 ,  14.06550599,  -4.53584003,   8.35267748,\n",
       "        38.4410656 ,  30.31279444,  50.00533974, -67.91246977,\n",
       "        19.68949754, -80.32583715,  35.84342377,  78.49912433,\n",
       "        82.90736428, -36.07003756, -18.51648681,  16.9118272 ,\n",
       "       -54.67205156,  -0.59143292])"
      ]
     },
     "execution_count": 10,
     "metadata": {},
     "output_type": "execute_result"
    }
   ],
   "source": [
    "np.random.uniform(-90.000, 90.000, size=50)"
   ]
  },
  {
   "cell_type": "code",
   "execution_count": 11,
   "id": "ceddfefe",
   "metadata": {},
   "outputs": [],
   "source": [
    "# Import timeit.\n",
    "import timeit"
   ]
  },
  {
   "cell_type": "code",
   "execution_count": 12,
   "id": "41b2ae73",
   "metadata": {},
   "outputs": [
    {
     "name": "stdout",
     "output_type": "stream",
     "text": [
      "12.9 µs ± 54.7 ns per loop (mean ± std. dev. of 7 runs, 100,000 loops each)\n"
     ]
    }
   ],
   "source": [
    "%timeit np.random.uniform(-90.000, 90.000, size=1500)"
   ]
  },
  {
   "cell_type": "code",
   "execution_count": 13,
   "id": "ccd3ab8b",
   "metadata": {},
   "outputs": [
    {
     "name": "stdout",
     "output_type": "stream",
     "text": [
      "1.25 ms ± 4.54 µs per loop (mean ± std. dev. of 7 runs, 1,000 loops each)\n"
     ]
    }
   ],
   "source": [
    "def latitudes(size):\n",
    "    latitudes = []\n",
    "    x = 0\n",
    "    while x < (size):\n",
    "        random_lat = random.randint(-90, 90) + random.random()\n",
    "        latitudes.append(random_lat)\n",
    "        x += 1\n",
    "    return latitudes\n",
    "# Call the function with 1500.\n",
    "%timeit latitudes(1500)"
   ]
  },
  {
   "cell_type": "code",
   "execution_count": null,
   "id": "1c93ae08",
   "metadata": {},
   "outputs": [],
   "source": [
    "#Refactor the code for the while loop with the %timeit magic command \n",
    "\n",
    "#and write a for loop that will generate the 1,500 latitudes."
   ]
  }
 ],
 "metadata": {
  "kernelspec": {
   "display_name": "PythonData",
   "language": "python",
   "name": "pythondata"
  },
  "language_info": {
   "codemirror_mode": {
    "name": "ipython",
    "version": 3
   },
   "file_extension": ".py",
   "mimetype": "text/x-python",
   "name": "python",
   "nbconvert_exporter": "python",
   "pygments_lexer": "ipython3",
   "version": "3.9.12"
  },
  "widgets": {
   "application/vnd.jupyter.widget-state+json": {
    "state": {},
    "version_major": 2,
    "version_minor": 0
   }
  }
 },
 "nbformat": 4,
 "nbformat_minor": 5
}
